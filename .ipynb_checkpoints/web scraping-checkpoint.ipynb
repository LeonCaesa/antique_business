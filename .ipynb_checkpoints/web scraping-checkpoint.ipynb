{
 "cells": [
  {
   "cell_type": "code",
   "execution_count": 50,
   "id": "766c659a-b3f0-472c-9657-58ebcb3291d7",
   "metadata": {},
   "outputs": [],
   "source": [
    "import requests\n",
    "import json\n",
    "import shutil\n",
    "import re\n",
    "import os\n",
    "\n",
    "#regex = r'id=\"(\\d+)\"[^>]*>([^<]+)<.*?img src=\"/Uploads/Picture/[^/]+/([^\"]+)\".*?>([^<]+)<.*?>([^<]+)<'\n",
    "#regex = r'<a[^>]*?id=\"(\\d+)\">([\\u4e00-\\u9fff]+)[\\s\\S]*?<img src=\"/Uploads/Picture/dc/(\\d+\\.jpg)\">[\\s\\S]*?<td>\\s*(\\S+)\\s*<\\/td>[\\s\\S]*?<td>\\s*(\\S+)\\s*<\\/td>'\n",
    "\n",
    "\n",
    "regex = r'<a[^>]*?id=\"(\\d+)\">([^<]+)<.*?<img src=\"[^\"]+/(.*?\\.jpg)\">.*?<td>\\s*(\\S+)\\s*<\\/td>\\s*<td>\\s*(\\S+)\\s*<\\/td>'\n",
    "\n",
    "pattern = re.compile(regex, re.S)\n",
    "matches = re.findall(pattern, test_string)"
   ]
  },
  {
   "cell_type": "code",
   "execution_count": null,
   "id": "ee2c5316-a66a-4c59-bd5b-ca5abfa7c804",
   "metadata": {},
   "outputs": [
    {
     "name": "stdout",
     "output_type": "stream",
     "text": [
      "1\n",
      "2\n",
      "3\n",
      "4\n",
      "5\n",
      "6\n",
      "7\n",
      "8\n",
      "9\n"
     ]
    }
   ],
   "source": [
    "\n",
    "\n",
    "#https://img.dpm.org.cn/Uploads/Picture/dc/342.jpg\n",
    "\n",
    "\n",
    "pic_root = 'https://img.dpm.org.cn/Uploads/Picture/dc/'\n",
    "for i in range(1, 14):\n",
    "    url = 'https://www.dpm.org.cn/searchs/enamels/category_id/100/dbg/0/p/' + str(i) + '.html'\n",
    "    response = requests.get(url)\n",
    "    print(i)\n",
    "\n",
    "    for each_row in pattern.findall(html_source):\n",
    "        id, name, pic, dynasty, type = each_row\n",
    "        name = name.strip('\\n| ')\n",
    "        dynasty = dynasty.strip(' ')\n",
    "        type = type.strip(' ')\n",
    "    \n",
    "        pic_response = requests.get(pic_root + pic, stream=True)\n",
    "        with open('./data/' + str(i) + '_' + str(id) + dynasty + '_True.jpg', 'wb') as out_file:\n",
    "            out_file.write(pic_response.content)\n",
    "        #break\n"
   ]
  },
  {
   "cell_type": "code",
   "execution_count": null,
   "id": "26ba8b3a-8c78-4a62-942d-a2ae573d17f4",
   "metadata": {},
   "outputs": [],
   "source": []
  },
  {
   "cell_type": "code",
   "execution_count": null,
   "id": "1588a089-6eb9-4dac-8511-e25e88db3c2a",
   "metadata": {},
   "outputs": [],
   "source": []
  },
  {
   "cell_type": "code",
   "execution_count": 41,
   "id": "816c5147-1fd8-48c7-a6f9-bb126346be59",
   "metadata": {},
   "outputs": [],
   "source": []
  }
 ],
 "metadata": {
  "kernelspec": {
   "display_name": "Python 3 (ipykernel)",
   "language": "python",
   "name": "python3"
  },
  "language_info": {
   "codemirror_mode": {
    "name": "ipython",
    "version": 3
   },
   "file_extension": ".py",
   "mimetype": "text/x-python",
   "name": "python",
   "nbconvert_exporter": "python",
   "pygments_lexer": "ipython3",
   "version": "3.11.5"
  }
 },
 "nbformat": 4,
 "nbformat_minor": 5
}
